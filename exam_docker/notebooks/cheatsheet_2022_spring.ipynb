{
 "cells": [
  {
   "cell_type": "markdown",
   "metadata": {},
   "source": [
    "# Information Systems for Engineers Spring 2022 - Cheat Sheet\n",
    "\n",
    "During the exam, you will be required to write SQL queries using a Jupyter notebook.\n",
    "\n",
    "This notebook is designed to help you start writing your queries by providing you an environment with the datasets loaded and a simple query that you can use to recap the syntax of SQL.\n",
    "\n",
    "Feel free to extend this notebook and use it for preparing the answers you need for the exam. Take into account that the content of this notebook will not be considered for grading.\n",
    "\n",
    "## SQL\n",
    "\n",
    "There is a local PostgreSQL 13 installation with a dataset loaded into a database. Run the next cell to connect to it."
   ]
  },
  {
   "cell_type": "code",
   "execution_count": null,
   "metadata": {},
   "outputs": [],
   "source": [
    "%load_ext sql\n",
    "%sql  postgresql://postgres:example@db "
   ]
  },
  {
   "cell_type": "markdown",
   "metadata": {},
   "source": [
    "To print the tables currently loaded in the database run:"
   ]
  },
  {
   "cell_type": "code",
   "execution_count": null,
   "metadata": {},
   "outputs": [],
   "source": [
    "%%sql\n",
    "\n",
    "SELECT * \n",
    "FROM INFORMATION_SCHEMA.TABLES \n",
    "WHERE TABLE_TYPE = 'BASE TABLE' and TABLE_CATALOG = 'postgres' and TABLE_SCHEMA = 'public';"
   ]
  },
  {
   "cell_type": "markdown",
   "metadata": {},
   "source": [
    "To print the attributes of a particular table (`airports`, for example) run:"
   ]
  },
  {
   "cell_type": "code",
   "execution_count": null,
   "metadata": {},
   "outputs": [],
   "source": [
    "%%sql\n",
    "\n",
    "SELECT column_name, data_type, character_maximum_length\n",
    "FROM INFORMATION_SCHEMA.COLUMNS \n",
    "WHERE table_name = 'airports';"
   ]
  },
  {
   "cell_type": "markdown",
   "metadata": {},
   "source": [
    "## Useful SQL Keywords\n",
    "\n",
    "The Keyword `SELECT DISTINCT` is used to return only distinct values. For example:"
   ]
  },
  {
   "cell_type": "code",
   "execution_count": null,
   "metadata": {
    "scrolled": true
   },
   "outputs": [],
   "source": [
    "%%sql\n",
    "SELECT DISTINCT residence FROM airlines;"
   ]
  },
  {
   "cell_type": "markdown",
   "metadata": {},
   "source": [
    "## Complex query example\n",
    "\n",
    "More complex PostgreSQL queries would look like:"
   ]
  },
  {
   "cell_type": "code",
   "execution_count": null,
   "metadata": {},
   "outputs": [],
   "source": [
    "%%sql\n",
    "SELECT airlines.residence, COUNT(airlines.code)\n",
    "    FROM airlines INNER JOIN airports ON airlines.residence = airports.residence\n",
    "    WHERE airlines.residence <> 'CA'\n",
    "GROUP BY airlines.residence\n",
    "ORDER BY airlines.residence;"
   ]
  },
  {
   "cell_type": "markdown",
   "metadata": {},
   "source": [
    "## Exam database − data about flight delays in the US\n",
    "\n",
    "The dataset consists of relations containing information such as airports, airlines, flights and flight irregularities. Tables include both real-world and synthetic data. \n",
    "\n",
    "Here is some basic information on the database tables.\n",
    "\n",
    "### 1) `airlines` table\n",
    "\n",
    "Contains the list of airlines serving flights in our database.\n",
    "\n",
    "* `code` is the three-letter IATA code identifier of the airline\n",
    "\n",
    "* `name` is the airline name\n",
    "\n",
    "* `residence` is the two-letter code of the state of residence"
   ]
  },
  {
   "cell_type": "code",
   "execution_count": null,
   "metadata": {},
   "outputs": [],
   "source": [
    "%%sql\n",
    "SELECT * FROM airlines;"
   ]
  },
  {
   "cell_type": "markdown",
   "metadata": {},
   "source": [
    "### 2) `airports` table\n",
    "\n",
    "Contains the list of available airports.\n",
    "\n",
    "* `code` is the three-letter IATA code identifier of the airport\n",
    "\n",
    "* `name` is the airport name\n",
    "\n",
    "* `city` is the name of the city where the airport is located\n",
    "\n",
    "* `residence` is the two-letter code of the state in which airport is located\n",
    "\n",
    "* `latitude` and `longitude` are floating-point numbers describing the geographical location of the airport"
   ]
  },
  {
   "cell_type": "code",
   "execution_count": null,
   "metadata": {},
   "outputs": [],
   "source": [
    "%%sql\n",
    "SELECT * FROM airports LIMIT 4;"
   ]
  },
  {
   "cell_type": "markdown",
   "metadata": {},
   "source": [
    "### 3) `flights` table\n",
    "\n",
    "Contains the list of flights conducted during the the first seven days of January 2015. This table contains many rows - careful when printing the data!\n",
    "\n",
    "* `id` is the unique flight ID\n",
    "\n",
    "* `flight_number` is the IATA flight code\n",
    "\n",
    "* `airline` is the IATA code of the airline\n",
    "\n",
    "* `departure` and `arrival` are the IATA codes of the departure and arrival airports\n",
    "\n",
    "* `year`, `month`, and `day` are the integer values encoding the number of day, month and the year when the flight departed. All values are 1-based integers, e.g., the date 2nd January 2015 is stored in columns `year`, `month`, `day` as `2015`, `1`, and `2`, respectively.\n",
    "\n",
    "* `load_factor` is a floating-point number in the range `[0-1]` that describes the load factor on the flight, i.e., the fraction of occupied passenger seats"
   ]
  },
  {
   "cell_type": "code",
   "execution_count": null,
   "metadata": {},
   "outputs": [],
   "source": [
    "%%sql\n",
    "SELECT * FROM flights LIMIT 4;"
   ]
  },
  {
   "cell_type": "markdown",
   "metadata": {},
   "source": [
    "### 4) `flights_delay` table\n",
    "\n",
    "Contains the information on flights delays and irregularities. This table contains many rows - careful when printing the data!\n",
    "\n",
    "* `flight_id` is the unique flight ID\n",
    "\n",
    "* `arrival_delay` a positive value is the delay on arrival in minutes, a negative value indicates an early arrival in minutes\n",
    "\n",
    "* `cancellation` and `divertion` are boolean flags indicating cancelled and diverted flights"
   ]
  },
  {
   "cell_type": "code",
   "execution_count": null,
   "metadata": {},
   "outputs": [],
   "source": [
    "%%sql\n",
    "SELECT * FROM flights_delay LIMIT 4;"
   ]
  },
  {
   "cell_type": "markdown",
   "metadata": {},
   "source": [
    "##### Note: the examples provided above do not contain all the query operations you might need during the exam.\n",
    "\n",
    "Now its your turn, you can write all your queries in new cells below. Feel free to add as many cells as needed."
   ]
  },
  {
   "cell_type": "code",
   "execution_count": null,
   "metadata": {},
   "outputs": [],
   "source": [
    "%%sql"
   ]
  },
  {
   "cell_type": "code",
   "execution_count": null,
   "metadata": {},
   "outputs": [],
   "source": [
    "%%sql "
   ]
  },
  {
   "cell_type": "code",
   "execution_count": null,
   "metadata": {},
   "outputs": [],
   "source": [
    "%%sql"
   ]
  },
  {
   "cell_type": "code",
   "execution_count": null,
   "metadata": {},
   "outputs": [],
   "source": [
    "%%sql "
   ]
  },
  {
   "cell_type": "code",
   "execution_count": null,
   "metadata": {},
   "outputs": [],
   "source": [
    "%%sql "
   ]
  },
  {
   "cell_type": "code",
   "execution_count": null,
   "metadata": {},
   "outputs": [],
   "source": [
    "%%sql "
   ]
  },
  {
   "cell_type": "code",
   "execution_count": null,
   "metadata": {
    "scrolled": true
   },
   "outputs": [],
   "source": [
    "%%sql "
   ]
  },
  {
   "cell_type": "code",
   "execution_count": null,
   "metadata": {},
   "outputs": [],
   "source": [
    "%%sql"
   ]
  }
 ],
 "metadata": {
  "kernelspec": {
   "display_name": "Python 3 (ipykernel)",
   "language": "python",
   "name": "python3"
  },
  "language_info": {
   "codemirror_mode": {
    "name": "ipython",
    "version": 3
   },
   "file_extension": ".py",
   "mimetype": "text/x-python",
   "name": "python",
   "nbconvert_exporter": "python",
   "pygments_lexer": "ipython3",
   "version": "3.9.16"
  }
 },
 "nbformat": 4,
 "nbformat_minor": 4
}
