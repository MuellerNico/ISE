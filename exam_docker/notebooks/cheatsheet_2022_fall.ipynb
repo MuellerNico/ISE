{
 "cells": [
  {
   "cell_type": "markdown",
   "metadata": {},
   "source": [
    "# Information Systems for Engineers Fall 2022 - Cheat Sheet\n",
    "\n",
    "During the exam, you will be required to write SQL queries using a Jupyter notebook.\n",
    "\n",
    "This notebook is designed to help you start writing your queries by providing you an environment with the datasets loaded and a simple query that you can use to recap the syntax of SQL.\n",
    "\n",
    "Feel free to extend this notebook and use it for preparing the answers you need for the exam. Take into account that the content of this notebook will not be considered for grading.\n",
    "\n",
    "## SQL\n",
    "\n",
    "There is a local PostgreSQL 14.5 installation with a dataset loaded into a database. Run the next cell to connect to it."
   ]
  },
  {
   "cell_type": "code",
   "execution_count": null,
   "metadata": {},
   "outputs": [],
   "source": [
    "%load_ext sql\n",
    "%sql  postgresql://postgres:example@db "
   ]
  },
  {
   "cell_type": "markdown",
   "metadata": {},
   "source": [
    "To print the tables currently loaded in the database run:"
   ]
  },
  {
   "cell_type": "code",
   "execution_count": null,
   "metadata": {},
   "outputs": [],
   "source": [
    "%%sql\n",
    "\n",
    "SELECT * \n",
    "FROM INFORMATION_SCHEMA.TABLES \n",
    "WHERE TABLE_TYPE = 'BASE TABLE' and TABLE_CATALOG = 'postgres' and TABLE_SCHEMA = 'public';"
   ]
  },
  {
   "cell_type": "markdown",
   "metadata": {},
   "source": [
    "To print the attributes of a particular table (`players`, for example) run:"
   ]
  },
  {
   "cell_type": "code",
   "execution_count": null,
   "metadata": {},
   "outputs": [],
   "source": [
    "%%sql\n",
    "\n",
    "SELECT column_name, data_type, character_maximum_length\n",
    "FROM INFORMATION_SCHEMA.COLUMNS \n",
    "WHERE table_name = 'players';"
   ]
  },
  {
   "cell_type": "markdown",
   "metadata": {},
   "source": [
    "## Complex query example\n",
    "\n",
    "More complex PostgreSQL queries would look like:"
   ]
  },
  {
   "cell_type": "code",
   "execution_count": null,
   "metadata": {},
   "outputs": [],
   "source": [
    "%%sql\n",
    "SELECT players.country_id, COUNT(players.player_id)\n",
    "    FROM players INNER JOIN ranking ON players.player_id = ranking.player_id\n",
    "    WHERE ranking.rank < 10\n",
    "GROUP BY players.country_id\n",
    "ORDER BY players.country_id;"
   ]
  },
  {
   "cell_type": "markdown",
   "metadata": {},
   "source": [
    "## Exam database − data from the rankings of the Association of Tennis Professionals (ATP)\n",
    "\n",
    "The dataset consists of relations containing real world information such as players, their statistics, rankings and tournaments. A shortened version of the dataset was used in the quiz throughout the course.\n",
    "\n",
    "Here is some basic information on the database tables.\n",
    "\n",
    "### 1) `players` table - shows the players born after 1980 and that have ever reached the top 500 in the rankings\n",
    "\n",
    "| attribute name | description| \n",
    "|:---|:---|\n",
    "|   `player_id`|   uniquely identifies a player|\n",
    "|   `first_name`|   player's first name|\n",
    "|   `last_name`|   player's last name|\n",
    "|   `dob`|   player's date of birth|\n",
    "|   `country_id`|   country code of player's nationality|"
   ]
  },
  {
   "cell_type": "code",
   "execution_count": null,
   "metadata": {},
   "outputs": [],
   "source": [
    "%%sql\n",
    "SELECT * FROM players LIMIT 4;"
   ]
  },
  {
   "cell_type": "markdown",
   "metadata": {},
   "source": [
    "### 2) `ranking` table - shows the top 10 rankings over time\n",
    "\n",
    "| attribute name | description| \n",
    "|:---|:---|\n",
    "|   `player_id`|   uniquely identifies a player|\n",
    "|   `rank`|   player's ranking|\n",
    "|   `rank_date`|   date of the reported ranking|\n",
    "|   `rank_points`|   player's ranking points|"
   ]
  },
  {
   "cell_type": "code",
   "execution_count": null,
   "metadata": {},
   "outputs": [],
   "source": [
    "%%sql\n",
    "SELECT * FROM ranking LIMIT 4;"
   ]
  },
  {
   "cell_type": "markdown",
   "metadata": {},
   "source": [
    "### 3) `tournaments` table - shows the tournaments\n",
    "\n",
    "| attribute name | description| \n",
    "|:---|:---|\n",
    "|   `tournament_id`|   uniquely identifies a tournament|\n",
    "|   `name`|   name of the tournament|\n",
    "|   `surface`|   type of surface at a tournament|"
   ]
  },
  {
   "cell_type": "code",
   "execution_count": null,
   "metadata": {},
   "outputs": [],
   "source": [
    "%%sql\n",
    "SELECT * FROM tournaments LIMIT 4;"
   ]
  },
  {
   "cell_type": "markdown",
   "metadata": {},
   "source": [
    "### 4) `matches` table - shows matches after and including 2015 of the players that ever occurred in the top 10 list\n",
    "\n",
    "| attribute name | description| \n",
    "|:---|:---|\n",
    "|   `match_id`|   uniquely identifies a record of a match|\n",
    "|   `player_id`|   uniquely identifies a player|\n",
    "|   `tournament_id`|   uniquely identifies a tournament|\n",
    "|   `season`|   year the match was played|\n",
    "|   `outcome`|   outcome of the match: *1* if player won, *0* if player lost|\n",
    "|   `bp_fc`|   number of break points the player faced|\n",
    "|   `bp_sv`|   number of break points the player saved|\n",
    "|   `round`|   round of the match during a tournament|\n",
    "|   `o_rank`|   rank of opponent|\n",
    "|   `minutes`|   duration of the match in minutes|"
   ]
  },
  {
   "cell_type": "code",
   "execution_count": null,
   "metadata": {},
   "outputs": [],
   "source": [
    "%%sql\n",
    "SELECT * FROM matches LIMIT 4;"
   ]
  },
  {
   "cell_type": "markdown",
   "metadata": {},
   "source": [
    "### 5) `stats` table - shows statistics of the players who are in the top players table\n",
    "\n",
    "| attribute name | description| \n",
    "|:---|:---|\n",
    "|   `player_id`|   uniquely identifies a player|\n",
    "|   `p_matches`|   number of matches the player won (e.g., 3)|\n",
    "|   `o_matches`|   number of matches the opponent won (e.g., 5)|\n",
    "|   `p_sets`|   number of sets the player won (e.g. 2)|\n",
    "|   `o_sets`|   number of sets the opponent won (e.g. 1)|"
   ]
  },
  {
   "cell_type": "code",
   "execution_count": null,
   "metadata": {},
   "outputs": [],
   "source": [
    "%%sql\n",
    "SELECT * FROM stats LIMIT 4;"
   ]
  },
  {
   "cell_type": "markdown",
   "metadata": {},
   "source": [
    "**PLEASE NOTE TO TRY TO LIMIT YOUR OUTPUT. SOME OF THE TABLES ARE LARGE AND PRINTING ALL OF THEM MIGHT SLOW YOUR WORK ENVIRONMENT.**"
   ]
  },
  {
   "cell_type": "markdown",
   "metadata": {},
   "source": [
    "##### Note: the examples provided above do not contain all the query operations you might need during the exam.\n",
    "\n",
    "Now its your turn, you can write all your queries in new cells below. Feel free to add as many cells as needed."
   ]
  },
  {
   "cell_type": "code",
   "execution_count": null,
   "metadata": {},
   "outputs": [],
   "source": [
    "%%sql"
   ]
  },
  {
   "cell_type": "code",
   "execution_count": null,
   "metadata": {},
   "outputs": [],
   "source": [
    "%%sql "
   ]
  },
  {
   "cell_type": "code",
   "execution_count": null,
   "metadata": {},
   "outputs": [],
   "source": [
    "%%sql"
   ]
  },
  {
   "cell_type": "code",
   "execution_count": null,
   "metadata": {},
   "outputs": [],
   "source": [
    "%%sql "
   ]
  },
  {
   "cell_type": "code",
   "execution_count": null,
   "metadata": {},
   "outputs": [],
   "source": [
    "%%sql "
   ]
  },
  {
   "cell_type": "code",
   "execution_count": null,
   "metadata": {},
   "outputs": [],
   "source": [
    "%%sql "
   ]
  },
  {
   "cell_type": "code",
   "execution_count": null,
   "metadata": {
    "scrolled": true
   },
   "outputs": [],
   "source": [
    "%%sql "
   ]
  },
  {
   "cell_type": "code",
   "execution_count": null,
   "metadata": {},
   "outputs": [],
   "source": [
    "%%sql"
   ]
  },
  {
   "cell_type": "code",
   "execution_count": null,
   "metadata": {},
   "outputs": [],
   "source": [
    "%%sql"
   ]
  },
  {
   "cell_type": "code",
   "execution_count": null,
   "metadata": {},
   "outputs": [],
   "source": [
    "%%sql"
   ]
  },
  {
   "cell_type": "code",
   "execution_count": null,
   "metadata": {},
   "outputs": [],
   "source": [
    "%%sql"
   ]
  }
 ],
 "metadata": {
  "kernelspec": {
   "display_name": "Python 3 (ipykernel)",
   "language": "python",
   "name": "python3"
  },
  "language_info": {
   "codemirror_mode": {
    "name": "ipython",
    "version": 3
   },
   "file_extension": ".py",
   "mimetype": "text/x-python",
   "name": "python",
   "nbconvert_exporter": "python",
   "pygments_lexer": "ipython3",
   "version": "3.9.16"
  }
 },
 "nbformat": 4,
 "nbformat_minor": 4
}
