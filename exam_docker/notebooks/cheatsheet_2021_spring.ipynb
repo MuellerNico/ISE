{
 "cells": [
  {
   "cell_type": "markdown",
   "metadata": {},
   "source": [
    "# Information Systems for Engineers 2021 - Cheat Sheet"
   ]
  },
  {
   "cell_type": "markdown",
   "metadata": {},
   "source": [
    "During the exam, you will be required to write SQL queries using a Jupyter notebook."
   ]
  },
  {
   "cell_type": "markdown",
   "metadata": {},
   "source": [
    "This notebook is designed to help you start writing your queries by providing you an environment with the datasets loaded and a simple query that you can use to recap the syntax of SQL."
   ]
  },
  {
   "cell_type": "markdown",
   "metadata": {},
   "source": [
    "Feel free to extend this notebook and use it for preparing the answers you need for the exam. Take into account that the content of this notebook will not be considered for grading."
   ]
  },
  {
   "cell_type": "markdown",
   "metadata": {},
   "source": [
    "## SQL"
   ]
  },
  {
   "cell_type": "markdown",
   "metadata": {},
   "source": [
    "There is a local PostgreSQL 12 installation with a dataset loaded into a database. Run the next cell to connect to it."
   ]
  },
  {
   "cell_type": "code",
   "execution_count": null,
   "metadata": {},
   "outputs": [],
   "source": [
    "%load_ext sql\n",
    "%sql  postgresql://postgres:example@db "
   ]
  },
  {
   "cell_type": "markdown",
   "metadata": {},
   "source": [
    "To print the tables currently loaded in the database run:"
   ]
  },
  {
   "cell_type": "code",
   "execution_count": null,
   "metadata": {},
   "outputs": [],
   "source": [
    "%%sql\n",
    "\n",
    "SELECT * \n",
    "FROM INFORMATION_SCHEMA.TABLES \n",
    "WHERE TABLE_TYPE = 'BASE TABLE' and TABLE_CATALOG = 'postgres' and TABLE_SCHEMA = 'public';"
   ]
  },
  {
   "cell_type": "markdown",
   "metadata": {},
   "source": [
    "To print the attributes of a particular table (`employees`, for example) run:"
   ]
  },
  {
   "cell_type": "code",
   "execution_count": null,
   "metadata": {},
   "outputs": [],
   "source": [
    "%%sql\n",
    "\n",
    "SELECT column_name, data_type, character_maximum_length\n",
    "FROM INFORMATION_SCHEMA.COLUMNS \n",
    "WHERE table_name = 'employees';"
   ]
  },
  {
   "cell_type": "markdown",
   "metadata": {},
   "source": [
    "## Useful SQL Keywords"
   ]
  },
  {
   "cell_type": "markdown",
   "metadata": {},
   "source": [
    "The Keyword `SELECT DISTINCT` is used to return only distinct values. For example:"
   ]
  },
  {
   "cell_type": "code",
   "execution_count": null,
   "metadata": {},
   "outputs": [],
   "source": [
    "%%sql\n",
    "SELECT DISTINCT title FROM titles;"
   ]
  },
  {
   "cell_type": "markdown",
   "metadata": {},
   "source": [
    "The keyword `EXTRACT` is used to access the components of temporal data types (i.e. date, time, timestamp, and interval). For example:"
   ]
  },
  {
   "cell_type": "code",
   "execution_count": null,
   "metadata": {},
   "outputs": [],
   "source": [
    "%%sql\n",
    "SELECT * FROM titles WHERE EXTRACT(YEAR FROM to_date) < 1987;"
   ]
  },
  {
   "cell_type": "markdown",
   "metadata": {},
   "source": [
    "## Complex query example\n",
    "\n",
    "A more complex PostgreSQL query would look like:"
   ]
  },
  {
   "cell_type": "code",
   "execution_count": null,
   "metadata": {},
   "outputs": [],
   "source": [
    "%%sql\n",
    "\n",
    "XXXXX TODO XXXXX"
   ]
  },
  {
   "cell_type": "markdown",
   "metadata": {},
   "source": [
    "## Exam database − data about employees of a company"
   ]
  },
  {
   "cell_type": "markdown",
   "metadata": {},
   "source": [
    "The dataset consists of relations containing information such as titles, birth dates and salaires about employees of a (fictitious) company. \n",
    "\n",
    "Here is some basic information on the database tables."
   ]
  },
  {
   "cell_type": "markdown",
   "metadata": {},
   "source": [
    "### 1) `departments` table\n",
    "\n",
    "Contains the mapping from the identifier `dept_no` to `dept_name`.\n",
    "\n",
    "* `dept_no` is the identifier of the department.\n",
    "\n",
    "* `dept_name` is the name of the department."
   ]
  },
  {
   "cell_type": "code",
   "execution_count": null,
   "metadata": {},
   "outputs": [],
   "source": [
    "%%sql\n",
    "SELECT * FROM departments;"
   ]
  },
  {
   "cell_type": "markdown",
   "metadata": {},
   "source": [
    "### 2) `dept_emp` table\n",
    "\n",
    "Contains information about which departments employees work for.\n",
    "\n",
    "* `emp_no` is the employee id as defined in the `employees` table.\n",
    "* `dept_no` is the department id.\n",
    "* `from_date` is the date from which the employee has been employed by the department.\n",
    "* `to_date` is the date until which the employee has been employed by the department.\n",
    "\n",
    "Note that the date `9999-01-01` indicates that the employee is still employed by this particular department."
   ]
  },
  {
   "cell_type": "code",
   "execution_count": null,
   "metadata": {},
   "outputs": [],
   "source": [
    "%%sql\n",
    "SELECT * FROM dept_emp LIMIT 4;"
   ]
  },
  {
   "cell_type": "markdown",
   "metadata": {},
   "source": [
    "### 3) `dept_manager` table\n",
    "\n",
    "Contains information about which employee has been the manager of a department and during which time.\n",
    "\n",
    "* `emp_no` is the employee id as defined in the `employees` table.\n",
    "* `dept_no` is the department id.\n",
    "* `from_date` is the date from which the employee was manager of the department.\n",
    "* `to_date` is the date until which the employee was manager of the department.\n",
    "\n",
    "Note that the date `9999-01-01` indicates that the employee is still the manager of this particular department."
   ]
  },
  {
   "cell_type": "code",
   "execution_count": null,
   "metadata": {},
   "outputs": [],
   "source": [
    "%%sql\n",
    "SELECT * FROM dept_manager LIMIT 4;"
   ]
  },
  {
   "cell_type": "markdown",
   "metadata": {},
   "source": [
    "### 4) `employees` table\n",
    "\n",
    "Contains information about each employee of the company.\n",
    "\n",
    "* `emp_no` is the employee id as defined in the `employees` table.\n",
    "* `birth_date` is the birth date of the employee.\n",
    "* `first_name` if the first name of the employee.\n",
    "* `last_name` is the last name of the employee.\n",
    "* `gender` is the gender of the employee.\n",
    "* `hire_date` is the date on which the employee was hired."
   ]
  },
  {
   "cell_type": "code",
   "execution_count": null,
   "metadata": {},
   "outputs": [],
   "source": [
    "%%sql\n",
    "SELECT * FROM employees LIMIT 4;"
   ]
  },
  {
   "cell_type": "markdown",
   "metadata": {},
   "source": [
    "### 5) `salaries` table\n",
    "\n",
    "Contains information about the salaries of employees.\n",
    "\n",
    "* `emp_no` is the employee id as defined in the `employees` table.\n",
    "* `salary` is the salary which the employed is / was paid.\n",
    "* `from_date` is the date from which the employee was paid the salary specified in the `salary` attribute.\n",
    "* `to_date` is the date until which the employee was paid the salary specified in the `salary` attribute.\n",
    "\n",
    "Note that the date `9999-01-01` indicates that the employee is currently being paid the salary specified in the `salary` attribute."
   ]
  },
  {
   "cell_type": "code",
   "execution_count": null,
   "metadata": {},
   "outputs": [],
   "source": [
    "%%sql\n",
    "SELECT * FROM salaries LIMIT 4;"
   ]
  },
  {
   "cell_type": "markdown",
   "metadata": {},
   "source": [
    "### 6) `titles` table"
   ]
  },
  {
   "cell_type": "markdown",
   "metadata": {},
   "source": [
    "Contains information about the titles of employees.\n",
    "\n",
    "* `emp_no` is the employee id as defined in the `employees` table.\n",
    "* `title` is the title which the employee holds/held.\n",
    "* `from_date` is the date from which the employee held the title specified in the `title` attribute.\n",
    "* `to_date` is the date until which the employee held the title specified in the `title` attribute.\n",
    "\n",
    "Note that the date `9999-01-01` indicates that the employee currently holds the title specified in the `title` attribute."
   ]
  },
  {
   "cell_type": "code",
   "execution_count": null,
   "metadata": {},
   "outputs": [],
   "source": [
    "%%sql\n",
    "SELECT * FROM titles LIMIT 4;"
   ]
  },
  {
   "cell_type": "markdown",
   "metadata": {},
   "source": [
    "##### Note: the examples provided above do not contain all the query operations you might need during the exam.\n",
    "\n",
    "Now its your turn, you can write all your queries in new cells below. Feel free to add as many cells as needed."
   ]
  },
  {
   "cell_type": "code",
   "execution_count": null,
   "metadata": {},
   "outputs": [],
   "source": []
  },
  {
   "cell_type": "code",
   "execution_count": null,
   "metadata": {},
   "outputs": [],
   "source": []
  },
  {
   "cell_type": "code",
   "execution_count": null,
   "metadata": {},
   "outputs": [],
   "source": []
  },
  {
   "cell_type": "code",
   "execution_count": null,
   "metadata": {},
   "outputs": [],
   "source": []
  },
  {
   "cell_type": "code",
   "execution_count": null,
   "metadata": {},
   "outputs": [],
   "source": []
  },
  {
   "cell_type": "code",
   "execution_count": null,
   "metadata": {},
   "outputs": [],
   "source": []
  },
  {
   "cell_type": "code",
   "execution_count": null,
   "metadata": {},
   "outputs": [],
   "source": []
  },
  {
   "cell_type": "code",
   "execution_count": null,
   "metadata": {},
   "outputs": [],
   "source": []
  },
  {
   "cell_type": "code",
   "execution_count": null,
   "metadata": {},
   "outputs": [],
   "source": []
  },
  {
   "cell_type": "code",
   "execution_count": null,
   "metadata": {},
   "outputs": [],
   "source": []
  },
  {
   "cell_type": "code",
   "execution_count": null,
   "metadata": {},
   "outputs": [],
   "source": []
  },
  {
   "cell_type": "code",
   "execution_count": null,
   "metadata": {},
   "outputs": [],
   "source": []
  },
  {
   "cell_type": "code",
   "execution_count": null,
   "metadata": {},
   "outputs": [],
   "source": []
  },
  {
   "cell_type": "code",
   "execution_count": null,
   "metadata": {},
   "outputs": [],
   "source": []
  }
 ],
 "metadata": {
  "kernelspec": {
   "display_name": "Python 3 (ipykernel)",
   "language": "python",
   "name": "python3"
  },
  "language_info": {
   "codemirror_mode": {
    "name": "ipython",
    "version": 3
   },
   "file_extension": ".py",
   "mimetype": "text/x-python",
   "name": "python",
   "nbconvert_exporter": "python",
   "pygments_lexer": "ipython3",
   "version": "3.9.16"
  }
 },
 "nbformat": 4,
 "nbformat_minor": 2
}
