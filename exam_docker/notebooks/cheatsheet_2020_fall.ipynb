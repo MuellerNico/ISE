{
 "cells": [
  {
   "cell_type": "markdown",
   "metadata": {},
   "source": [
    "# Information Systems for Engineers 2020 - Cheat Sheet"
   ]
  },
  {
   "cell_type": "markdown",
   "metadata": {},
   "source": [
    "During the exam, you will be required to write SQL queries using a Jupyter notebook."
   ]
  },
  {
   "cell_type": "markdown",
   "metadata": {},
   "source": [
    "This notebook is designed to help you start writing your queries by providing you an environment with the datasets loaded and a simple query that you can use to recap the syntax of SQL."
   ]
  },
  {
   "cell_type": "markdown",
   "metadata": {},
   "source": [
    "Feel free to extend this notebook and use it for preparing the answers you need for the exam. Take into account that the content of this notebook will not be considered for grading."
   ]
  },
  {
   "cell_type": "markdown",
   "metadata": {},
   "source": [
    "## SQL"
   ]
  },
  {
   "cell_type": "markdown",
   "metadata": {},
   "source": [
    "There is a local PostgreSQL 12 installation with a dataset loaded into a database. Run the next cell to connect to it."
   ]
  },
  {
   "cell_type": "code",
   "execution_count": null,
   "metadata": {},
   "outputs": [],
   "source": [
    "%load_ext sql\n",
    "%sql  postgresql://postgres:example@db "
   ]
  },
  {
   "cell_type": "markdown",
   "metadata": {},
   "source": [
    "To print the tables currently loaded in the database run:"
   ]
  },
  {
   "cell_type": "code",
   "execution_count": null,
   "metadata": {},
   "outputs": [],
   "source": [
    "%%sql\n",
    "\n",
    "SELECT * \n",
    "FROM INFORMATION_SCHEMA.TABLES \n",
    "WHERE TABLE_TYPE = 'BASE TABLE' and TABLE_CATALOG = 'postgres' and TABLE_SCHEMA = 'public';"
   ]
  },
  {
   "cell_type": "markdown",
   "metadata": {},
   "source": [
    "To print the attributes of a particular table (`stations`, for example) run:"
   ]
  },
  {
   "cell_type": "code",
   "execution_count": null,
   "metadata": {},
   "outputs": [],
   "source": [
    "%%sql\n",
    "\n",
    "SELECT column_name, data_type, character_maximum_length\n",
    "FROM INFORMATION_SCHEMA.COLUMNS \n",
    "WHERE table_name = 'stations';"
   ]
  },
  {
   "cell_type": "markdown",
   "metadata": {},
   "source": [
    "## Complex query example\n",
    "\n",
    "A more complex PostgreSQL query would look like:"
   ]
  },
  {
   "cell_type": "code",
   "execution_count": null,
   "metadata": {},
   "outputs": [],
   "source": [
    "%%sql\n",
    "\n",
    "SELECT id, name, service, open_mon, avg_weekday_passengers FROM (\n",
    "    stations JOIN station_services \n",
    "    ON stations.id=station_services.station_id \n",
    "    AND station_services.open_mon=True\n",
    ") as monday_services \n",
    "    GROUP BY id, name, service, open_mon, avg_weekday_passengers \n",
    "    HAVING service='Western Union' AND avg_weekday_passengers < 10000\n",
    "    ORDER BY avg_weekday_passengers ASC;"
   ]
  },
  {
   "cell_type": "markdown",
   "metadata": {},
   "source": [
    "## Exam database − semi-realistic train travel data around Zürich"
   ]
  },
  {
   "cell_type": "markdown",
   "metadata": {},
   "source": [
    "The dataset represents stations, train routes, train trips and customer's trips on the SBB around Zürich. Some of the station and timetable data is real, some is synthetic, as is all the customer trip data.\n",
    "\n",
    "Here is some basic information on the database tables."
   ]
  },
  {
   "cell_type": "markdown",
   "metadata": {},
   "source": [
    "### `stations` table\n",
    "\n",
    "Information on the train stations in the network around Zürich.\n",
    "\n",
    "`name` is the name of the station\n",
    "\n",
    "`num_platforms` is the number of platforms in the station\n",
    "\n",
    "`avg_weekday_passengers` is the average number of daily passengers on a weekday\n",
    "\n",
    "`avg_weekend_passengers` is the average number of daily passengers on a weekend day"
   ]
  },
  {
   "cell_type": "code",
   "execution_count": null,
   "metadata": {},
   "outputs": [],
   "source": [
    "%%sql\n",
    "SELECT * FROM stations LIMIT 4;"
   ]
  },
  {
   "cell_type": "markdown",
   "metadata": {},
   "source": [
    "### `station_services` table\n",
    "\n",
    "Contains the services offered by the stations in the network, and their opening days.\n",
    "\n",
    "`station_id` is the station id as defined in the `stations` table\n",
    "\n",
    "`service` is the description of the service\n",
    "\n",
    "`open_mon` represents whether the service is open on monday\n",
    "\n",
    "`open_tue` represents whether the service is open on tueday\n",
    "\n",
    "`open_wed` represents whether the service is open on wednesday\n",
    "\n",
    "`open_thu` represents whether the service is open on thursday\n",
    "\n",
    "`open_fri` represents whether the service is open on friday\n",
    "\n",
    "`open_sat` represents whether the service is open on saturday\n",
    "\n",
    "`open_sun` represents whether the service is open on sunday"
   ]
  },
  {
   "cell_type": "code",
   "execution_count": null,
   "metadata": {},
   "outputs": [],
   "source": [
    "%%sql\n",
    "SELECT * FROM station_services LIMIT 4;"
   ]
  },
  {
   "cell_type": "markdown",
   "metadata": {},
   "source": [
    "### `train_routes` table\n",
    "\n",
    "A train route is a fixed path and train configuration. There are multiple trips on the same route within a day.\n",
    "\n",
    "`route_kind` is the kind of route, e.g. 'InterRegio'\n",
    "\n",
    "`bikes_permitted` represents whether bikes are permitted on this route\n",
    "\n",
    "`carriages` is the number of carriages in this train configuration\n"
   ]
  },
  {
   "cell_type": "code",
   "execution_count": null,
   "metadata": {},
   "outputs": [],
   "source": [
    "%%sql\n",
    "SELECT * FROM train_routes LIMIT 4;"
   ]
  },
  {
   "cell_type": "markdown",
   "metadata": {},
   "source": [
    "### `train_trips` table\n",
    "\n",
    "A train trip is a single one-way trip of a train on a route.\n",
    "\n",
    "`route_id` is the corresponding train_route (in the `train_routes` table)\n",
    "\n",
    "`headsign` is the headsign on the train for this trip\n",
    "\n",
    "`occupancy_1st_class` is the estimate of occupancy in 1st class, as an integer between 1 and 3 (inclusive)\n",
    "\n",
    "`occupancy_2nd_class` is the estimate of occupancy in 2nd class, as an integer between 1 and 3 (inclusive)"
   ]
  },
  {
   "cell_type": "code",
   "execution_count": null,
   "metadata": {},
   "outputs": [],
   "source": [
    "%%sql\n",
    "SELECT * FROM train_trips LIMIT 4;"
   ]
  },
  {
   "cell_type": "markdown",
   "metadata": {},
   "source": [
    "### `customer_trips` table\n",
    "\n",
    "`trip_id` is the train trip (in table `train_trips`) corresponding to this customer trip\n",
    "\n",
    "`board_station_id` is the id of the station where the passenger boarded the train\n",
    "\n",
    "`board_time` is the time and date when the passenger boarded the train\n",
    "\n",
    "`alight_station_id` is the id of the station where the passenger alighted the train\n",
    "\n",
    "`alight_time` is the time and date when the passenger alighted the train\n",
    "\n",
    "`stops` is the number of stops encompassed by the customer's trip\n",
    "\n",
    "`ticket_kind` is the kind of ticket used for this trip, e.g. 'Day'\n",
    "\n",
    "`duration_mins` is the duration of the customer's trip in minutes"
   ]
  },
  {
   "cell_type": "markdown",
   "metadata": {},
   "source": [
    "Contains the services offered by the stations in the network."
   ]
  },
  {
   "cell_type": "code",
   "execution_count": null,
   "metadata": {},
   "outputs": [],
   "source": [
    "%%sql\n",
    "SELECT * FROM customer_trips LIMIT 4;"
   ]
  },
  {
   "cell_type": "markdown",
   "metadata": {},
   "source": [
    "The customer trips represent one operation day, from early morning of March 12th 2019 to late night (early morning of March 13th 2019)."
   ]
  },
  {
   "cell_type": "code",
   "execution_count": null,
   "metadata": {},
   "outputs": [],
   "source": [
    "%%sql\n",
    "SELECT MIN(board_time), MAX(alight_time) FROM customer_trips;"
   ]
  },
  {
   "cell_type": "markdown",
   "metadata": {},
   "source": [
    "##### Note: the examples provided above do not contain all the query operations you might need during the exam.\n",
    "\n",
    "Now its your turn, you can write all your queries in new cells below. Feel free to add as many cells as needed."
   ]
  },
  {
   "cell_type": "code",
   "execution_count": null,
   "metadata": {},
   "outputs": [],
   "source": []
  },
  {
   "cell_type": "code",
   "execution_count": null,
   "metadata": {},
   "outputs": [],
   "source": []
  },
  {
   "cell_type": "code",
   "execution_count": null,
   "metadata": {},
   "outputs": [],
   "source": []
  },
  {
   "cell_type": "markdown",
   "metadata": {},
   "source": []
  },
  {
   "cell_type": "code",
   "execution_count": null,
   "metadata": {},
   "outputs": [],
   "source": []
  },
  {
   "cell_type": "code",
   "execution_count": null,
   "metadata": {},
   "outputs": [],
   "source": []
  }
 ],
 "metadata": {
  "kernelspec": {
   "display_name": "Python 3 (ipykernel)",
   "language": "python",
   "name": "python3"
  },
  "language_info": {
   "codemirror_mode": {
    "name": "ipython",
    "version": 3
   },
   "file_extension": ".py",
   "mimetype": "text/x-python",
   "name": "python",
   "nbconvert_exporter": "python",
   "pygments_lexer": "ipython3",
   "version": "3.9.16"
  }
 },
 "nbformat": 4,
 "nbformat_minor": 2
}
